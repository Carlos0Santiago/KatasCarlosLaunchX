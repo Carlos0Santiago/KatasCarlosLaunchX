{
 "cells": [
  {
   "cell_type": "markdown",
   "metadata": {},
   "source": [
    "crear un programa que pueda calcular la distancia entre dos planetas. Comenzaremos usando dos distancias de planetas: Tierra (149.597.870 km) y Júpiter (778.547.200 km).\n",
    " Restarás el primer planeta del segundo para determinar la distancia en kilómetros. A continuación, puedes convertir la distancia del kilómetro en millas multiplicándola por 0.621."
   ]
  },
  {
   "cell_type": "code",
   "execution_count": 28,
   "metadata": {},
   "outputs": [
    {
     "name": "stdout",
     "output_type": "stream",
     "text": [
      "Existe 628949330 KM de distancia entre la Tierra y Jupiter\n",
      "Existe 390577533.93 MI de distancia entre la Tierra y Jupiter\n"
     ]
    }
   ],
   "source": [
    "Tierra = int('149597870')\n",
    "Jupiter = int('778547200')\n",
    "Distancia = Jupiter - Tierra\n",
    "print('Existe',Distancia,'KM de distancia entre la Tierra y Jupiter')\n",
    "\n",
    "DistanciaMillas = Distancia * 0.621\n",
    "print('Existe',DistanciaMillas,'MI de distancia entre la Tierra y Jupiter')\n",
    "\n",
    "\n"
   ]
  },
  {
   "cell_type": "markdown",
   "metadata": {},
   "source": [
    "Con frecuencia, deberás convertir los valores de cadena en números para realizar correctamente diferentes operaciones o determinar el valor absoluto de un número."
   ]
  },
  {
   "cell_type": "code",
   "execution_count": 5,
   "metadata": {},
   "outputs": [
    {
     "name": "stdout",
     "output_type": "stream",
     "text": [
      "-50300000 KM\n",
      "-31236300.0 MI\n"
     ]
    }
   ],
   "source": [
    "Planetone = input('Introduzca la primer distancia en KM')\n",
    "Planettwo = input('Introduzca la segunda distancia en KM')\n",
    "\n",
    "Planetone= int(Planetone)\n",
    "Planettwo= int(Planettwo)\n",
    "\n",
    "Distanciakm = Planetone - Planettwo\n",
    "print(Distanciakm,'KM')\n",
    "\n",
    "DistanciaMi= Distanciakm * 0.621\n",
    "print(DistanciaMi,'MI')"
   ]
  }
 ],
 "metadata": {
  "interpreter": {
   "hash": "4691b12da6ea9a98afc476fe90434abf546105d1a018b4567df41b687522937c"
  },
  "kernelspec": {
   "display_name": "Python 3.10.2 64-bit (windows store)",
   "language": "python",
   "name": "python3"
  },
  "language_info": {
   "codemirror_mode": {
    "name": "ipython",
    "version": 3
   },
   "file_extension": ".py",
   "mimetype": "text/x-python",
   "name": "python",
   "nbconvert_exporter": "python",
   "pygments_lexer": "ipython3",
   "version": "3.10.2"
  },
  "orig_nbformat": 4
 },
 "nbformat": 4,
 "nbformat_minor": 2
}
