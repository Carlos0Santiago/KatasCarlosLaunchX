{
 "cells": [
  {
   "cell_type": "markdown",
   "metadata": {},
   "source": [
    "## Ejercicio 1"
   ]
  },
  {
   "cell_type": "markdown",
   "metadata": {},
   "source": [
    "Función para leer 3 tanques de combustible y muestre el promedio"
   ]
  },
  {
   "cell_type": "code",
   "execution_count": 7,
   "metadata": {},
   "outputs": [],
   "source": [
    "def faul(tank_main,tank_external,tank_hydrogen):\n",
    "    total_average = ( tank_main + tank_external + tank_hydrogen ) / 3\n",
    "    return (\n",
    "        f'tank main = { tank_main } tank external = { tank_external } tank hydrogen = { tank_hydrogen } | average = { total_average }'\n",
    "    )"
   ]
  },
  {
   "cell_type": "markdown",
   "metadata": {},
   "source": [
    "Llamamos a la función que genera el reporte print(funcion(tanque1, tanque2, tanque3))"
   ]
  },
  {
   "cell_type": "code",
   "execution_count": 8,
   "metadata": {},
   "outputs": [
    {
     "name": "stdout",
     "output_type": "stream",
     "text": [
      "tank main = 100 tank external = 34 tank hydrogen = 56 | average = 63.333333333333336\n"
     ]
    }
   ],
   "source": [
    "print( faul(100,34,56) )"
   ]
  },
  {
   "cell_type": "markdown",
   "metadata": {},
   "source": [
    "Función promedio "
   ]
  },
  {
   "cell_type": "code",
   "execution_count": 9,
   "metadata": {},
   "outputs": [
    {
     "name": "stdout",
     "output_type": "stream",
     "text": [
      "63.333333333333336\n"
     ]
    }
   ],
   "source": [
    "def average(item):\n",
    "    total_item = len(item)\n",
    "    total_item_sum = sum(item)\n",
    "    result = (total_item_sum / total_item)\n",
    "    return result\n",
    "\n",
    "result_average = average([100,34,56])\n",
    "print( result_average )"
   ]
  },
  {
   "cell_type": "markdown",
   "metadata": {},
   "source": [
    "Actualiza la función"
   ]
  },
  {
   "cell_type": "code",
   "execution_count": 13,
   "metadata": {},
   "outputs": [
    {
     "name": "stdout",
     "output_type": "stream",
     "text": [
      "tank main = 100 tank external = 34 tank hydrogen = 56 | average = average63.333333333333336\n"
     ]
    }
   ],
   "source": [
    "def faul(tank_main,tank_external,tank_hydrogen):\n",
    "    total_average = average([tank_main,tank_external,tank_hydrogen])\n",
    "    return (\n",
    "        f'tank main = { tank_main } tank external = { tank_external } tank hydrogen = { tank_hydrogen } | average = average{ total_average }'\n",
    "    )\n",
    "\n",
    "print( faul(100,34,56) )"
   ]
  },
  {
   "cell_type": "markdown",
   "metadata": {},
   "source": [
    "## Ejercicio 2: Trabajo con argumentos de palabra clave"
   ]
  },
  {
   "cell_type": "markdown",
   "metadata": {},
   "source": [
    "Función para leer 3 tanques de combustible y muestre el promedio"
   ]
  },
  {
   "cell_type": "code",
   "execution_count": 1,
   "metadata": {},
   "outputs": [
    {
     "name": "stdout",
     "output_type": "stream",
     "text": [
      " \n",
      "    Mission to Mercury \n",
      "    Total travel time: 65 minutes.\n",
      "    Tootal fuel left: 433317 gallons\n"
     ]
    }
   ],
   "source": [
    "def report( pre_launch_time,flight_time,destination,external_tank,main_tank):\n",
    "    return f\"\"\" \n",
    "    Mission to { destination } \n",
    "    Total travel time: { pre_launch_time + flight_time } minutes.\n",
    "    Tootal fuel left: { external_tank + main_tank } gallons\"\"\"\n",
    "\n",
    "print(report(14,51,'Mercury',378989,54328))"
   ]
  },
  {
   "cell_type": "markdown",
   "metadata": {},
   "source": [
    "Crear función mas flexibles en los argumentos"
   ]
  },
  {
   "cell_type": "code",
   "execution_count": 7,
   "metadata": {},
   "outputs": [
    {
     "name": "stdout",
     "output_type": "stream",
     "text": [
      " \n",
      "    Mission to Mercury \n",
      "    Total travel time: 76 minutes.\n",
      "    Tootal fuel left: 500000 gallons\n"
     ]
    }
   ],
   "source": [
    "def report(destination,*minutes,**fuel_reservoirs):\n",
    "    sum_minutes = sum(minutes)\n",
    "    sum_tank = sum(fuel_reservoirs.values())\n",
    "    return f\"\"\" \n",
    "    Mission to { destination } \n",
    "    Total travel time: { sum_minutes } minutes.\n",
    "    Tootal fuel left: { sum_tank } gallons\"\"\"\n",
    "\n",
    "print(report('Mercury',10,15,51, main=300000,external=200000))\n"
   ]
  },
  {
   "cell_type": "markdown",
   "metadata": {},
   "source": [
    "Especificar los tanques"
   ]
  },
  {
   "cell_type": "code",
   "execution_count": 10,
   "metadata": {},
   "outputs": [
    {
     "name": "stdout",
     "output_type": "stream",
     "text": [
      " \n",
      "    Mission to Mercury \n",
      "    Total travel time: 74 minutes.\n",
      "    Tootal fuel left: 500000 gallons left\n",
      "main tank | 300000 gallons left\n",
      "external tank | 200000 gallons left\n",
      "\n"
     ]
    }
   ],
   "source": [
    "def report(destination,*minutes,**fuel_reservoirs):\n",
    "    sum_minutes = sum(minutes)\n",
    "    sum_tank = sum(fuel_reservoirs.values())\n",
    "    items_fuel = fuel_reservoirs.items()\n",
    "\n",
    "    report = f\"\"\" \n",
    "    Mission to { destination } \n",
    "    Total travel time: { sum_minutes } minutes.\n",
    "    Tootal fuel left: { sum_tank } gallons left\\n\"\"\"\n",
    "\n",
    "    for tank,gallons in items_fuel:\n",
    "        report += f\"{ tank } tank | { gallons } gallons left\\n\"\n",
    "    return report\n",
    "\n",
    "print(report('Mercury',8,11,55, main=300000,external=200000))"
   ]
  }
 ],
 "metadata": {
  "interpreter": {
   "hash": "aee8b7b246df8f9039afb4144a1f6fd8d2ca17a180786b69acc140d282b71a49"
  },
  "kernelspec": {
   "display_name": "Python 3.10.2 64-bit",
   "language": "python",
   "name": "python3"
  },
  "language_info": {
   "codemirror_mode": {
    "name": "ipython",
    "version": 3
   },
   "file_extension": ".py",
   "mimetype": "text/x-python",
   "name": "python",
   "nbconvert_exporter": "python",
   "pygments_lexer": "ipython3",
   "version": "3.10.2"
  },
  "orig_nbformat": 4
 },
 "nbformat": 4,
 "nbformat_minor": 2
}
